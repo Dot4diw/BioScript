{
 "cells": [
  {
   "cell_type": "code",
   "execution_count": null,
   "id": "d6427da2-7a30-44e5-a896-6f40b75993d3",
   "metadata": {
    "execution": {
     "iopub.execute_input": "2025-03-07T04:54:45.757769Z",
     "iopub.status.busy": "2025-03-07T04:54:45.757466Z",
     "iopub.status.idle": "2025-03-07T04:55:57.558023Z",
     "shell.execute_reply": "2025-03-07T04:55:57.557233Z",
     "shell.execute_reply.started": "2025-03-07T04:54:45.757744Z"
    }
   },
   "outputs": [],
   "source": [
    "import scvelo as scv\n",
    "import scanpy as sc\n",
    "import cellrank as cr\n",
    "import numpy as np\n",
    "import pandas as pd\n",
    "import anndata as ad\n",
    "from scipy import io\n",
    "from scipy.sparse import coo_matrix, csr_matrix\n",
    "import os\n",
    "import anndata"
   ]
  },
  {
   "cell_type": "code",
   "execution_count": null,
   "id": "d6947968-0036-482a-8121-2ac8d034e691",
   "metadata": {
    "execution": {
     "iopub.execute_input": "2025-03-07T04:55:57.563333Z",
     "iopub.status.busy": "2025-03-07T04:55:57.561250Z",
     "iopub.status.idle": "2025-03-07T04:55:57.711249Z",
     "shell.execute_reply": "2025-03-07T04:55:57.710715Z",
     "shell.execute_reply.started": "2025-03-07T04:55:57.563303Z"
    }
   },
   "outputs": [],
   "source": [
    "sc.settings.verbosity = 0\n",
    "sc.settings.set_figure_params(\n",
    "    dpi=92,\n",
    "    dpi_save=300,\n",
    "    facecolor=\"white\",\n",
    "    frameon=False,\n",
    ")"
   ]
  },
  {
   "cell_type": "markdown",
   "id": "6cb4ed73-f662-4731-a23c-babbb707eb24",
   "metadata": {},
   "source": [
    "# Construct the scRNA-seq scanpy anndata object"
   ]
  },
  {
   "cell_type": "code",
   "execution_count": null,
   "id": "ad741b48-0104-45ca-8c7b-603d41f10e4e",
   "metadata": {
    "execution": {
     "iopub.execute_input": "2025-03-07T04:55:57.715487Z",
     "iopub.status.busy": "2025-03-07T04:55:57.713779Z",
     "iopub.status.idle": "2025-03-07T04:56:08.153066Z",
     "shell.execute_reply": "2025-03-07T04:56:08.152462Z",
     "shell.execute_reply.started": "2025-03-07T04:55:57.715460Z"
    }
   },
   "outputs": [],
   "source": [
    "# load sparse matrix:\n",
    "X = io.mmread(\"counts.mtx\")\n",
    "\n",
    "# create anndata object\n",
    "adata = anndata.AnnData(\n",
    "    X=X.transpose().tocsr()\n",
    ")\n",
    "\n",
    "# load cell metadata:\n",
    "cell_meta = pd.read_csv(\"metadata.csv\")\n",
    "\n",
    "# load gene names:\n",
    "with open(\"gene_names.csv\", 'r') as f:\n",
    "    gene_names = f.read().splitlines()\n",
    "\n",
    "# set anndata observations and index obs by barcodes, var by gene names\n",
    "adata.obs = cell_meta\n",
    "adata.obs.index = adata.obs['barcodes']\n",
    "adata.var.index = gene_names\n",
    "\n",
    "# load dimensional reduction:\n",
    "pca = pd.read_csv(\"pca.csv\")\n",
    "pca.index = adata.obs.index\n",
    "\n",
    "harmony = pd.read_csv(\"harmony.csv\")\n",
    "harmony.index = adata.obs.index\n",
    "\n",
    "# set pca and umap\n",
    "#adata.obsm['X_pca'] = pca.to_numpy()\n",
    "adata.obsm['X_pca'] = harmony.to_numpy()\n",
    "#adata.obsm['X_harmony'] = harmony.to_numpy()\n",
    "adata.obsm['X_umap'] = np.vstack((adata.obs['UMAP_1'].to_numpy(), adata.obs['UMAP_2'].to_numpy())).T\n"
   ]
  },
  {
   "cell_type": "code",
   "execution_count": null,
   "id": "5b31842e-d213-4837-a800-954a166f8ee4",
   "metadata": {
    "execution": {
     "iopub.execute_input": "2025-03-07T04:56:08.158593Z",
     "iopub.status.busy": "2025-03-07T04:56:08.156788Z",
     "iopub.status.idle": "2025-03-07T04:56:08.165852Z",
     "shell.execute_reply": "2025-03-07T04:56:08.165260Z",
     "shell.execute_reply.started": "2025-03-07T04:56:08.158563Z"
    }
   },
   "outputs": [],
   "source": [
    "adata"
   ]
  },
  {
   "cell_type": "code",
   "execution_count": null,
   "id": "6a8b9dd0-be44-4371-88c4-11b6c9098aaf",
   "metadata": {
    "execution": {
     "iopub.execute_input": "2025-03-07T04:56:08.170255Z",
     "iopub.status.busy": "2025-03-07T04:56:08.168464Z",
     "iopub.status.idle": "2025-03-07T04:56:08.196949Z",
     "shell.execute_reply": "2025-03-07T04:56:08.196239Z",
     "shell.execute_reply.started": "2025-03-07T04:56:08.170229Z"
    }
   },
   "outputs": [],
   "source": [
    "cols_to_drop = [col for col in adata.obs.columns \n",
    "                if col.startswith(('pANN', 'DF','RNA_snn_res'))]\n",
    "adata.obs.drop(columns=cols_to_drop, inplace=True)"
   ]
  },
  {
   "cell_type": "code",
   "execution_count": null,
   "id": "8e04aed7-f97f-4c75-a783-f019fb8bc6df",
   "metadata": {
    "execution": {
     "iopub.execute_input": "2025-03-07T04:56:08.201163Z",
     "iopub.status.busy": "2025-03-07T04:56:08.199408Z",
     "iopub.status.idle": "2025-03-07T04:56:08.237023Z",
     "shell.execute_reply": "2025-03-07T04:56:08.236388Z",
     "shell.execute_reply.started": "2025-03-07T04:56:08.201137Z"
    }
   },
   "outputs": [],
   "source": [
    "adata"
   ]
  },
  {
   "cell_type": "code",
   "execution_count": null,
   "id": "c70c1149-3cd8-4663-9a91-cc98f50eebc0",
   "metadata": {
    "execution": {
     "iopub.execute_input": "2025-03-07T04:56:08.241454Z",
     "iopub.status.busy": "2025-03-07T04:56:08.239646Z",
     "iopub.status.idle": "2025-03-07T04:56:08.256476Z",
     "shell.execute_reply": "2025-03-07T04:56:08.255858Z",
     "shell.execute_reply.started": "2025-03-07T04:56:08.241412Z"
    }
   },
   "outputs": [],
   "source": [
    "adata.obs['seurat_clusters'] = 'C' + adata.obs['seurat_clusters'].astype('str')"
   ]
  },
  {
   "cell_type": "code",
   "execution_count": null,
   "id": "d3aa378b-d694-4ff8-b1a3-c7c1136116a1",
   "metadata": {
    "execution": {
     "iopub.execute_input": "2025-03-07T04:56:08.260631Z",
     "iopub.status.busy": "2025-03-07T04:56:08.258939Z",
     "iopub.status.idle": "2025-03-07T04:56:13.274950Z",
     "shell.execute_reply": "2025-03-07T04:56:13.274354Z",
     "shell.execute_reply.started": "2025-03-07T04:56:08.260606Z"
    }
   },
   "outputs": [],
   "source": [
    "# plot a UMAP colored by sampleID to test:\n",
    "sc.pl.umap(adata, color=['seurat_clusters'], frameon=True, save=True, title = \"Subtype\")"
   ]
  },
  {
   "cell_type": "code",
   "execution_count": null,
   "id": "9cda837d-918e-462a-abc4-e29c21823004",
   "metadata": {
    "execution": {
     "iopub.execute_input": "2025-03-07T04:56:13.275734Z",
     "iopub.status.busy": "2025-03-07T04:56:13.275493Z",
     "iopub.status.idle": "2025-03-07T04:56:15.703892Z",
     "shell.execute_reply": "2025-03-07T04:56:15.702895Z",
     "shell.execute_reply.started": "2025-03-07T04:56:13.275712Z"
    }
   },
   "outputs": [],
   "source": [
    "# save dataset as anndata format\n",
    "adata.write('scRNAseq_anno.h5ad')"
   ]
  },
  {
   "cell_type": "code",
   "execution_count": null,
   "id": "40e77656-6325-4317-a139-1e2660951446",
   "metadata": {
    "execution": {
     "iopub.execute_input": "2025-02-14T04:42:02.312375Z",
     "iopub.status.busy": "2025-02-14T04:42:02.312076Z",
     "iopub.status.idle": "2025-02-14T04:42:15.596212Z",
     "shell.execute_reply": "2025-02-14T04:42:15.595603Z",
     "shell.execute_reply.started": "2025-02-14T04:42:02.312352Z"
    }
   },
   "outputs": [],
   "source": [
    "adata = sc.read_h5ad(\"scRNAseq_anno.h5ad\")"
   ]
  },
  {
   "cell_type": "markdown",
   "id": "1927d52a-8447-454a-9d6f-2e34aa3cb810",
   "metadata": {},
   "source": [
    "# Loading and Constructing spliced and unspliced counts matrices from mutiple sample loom file"
   ]
  },
  {
   "cell_type": "code",
   "execution_count": null,
   "id": "914a7af1-eeea-45ed-87ad-c77f69ae09b0",
   "metadata": {
    "execution": {
     "iopub.execute_input": "2025-03-07T04:56:15.710507Z",
     "iopub.status.busy": "2025-03-07T04:56:15.708686Z",
     "iopub.status.idle": "2025-03-07T04:56:15.715972Z",
     "shell.execute_reply": "2025-03-07T04:56:15.715376Z",
     "shell.execute_reply.started": "2025-03-07T04:56:15.710479Z"
    }
   },
   "outputs": [],
   "source": [
    "scv.settings.verbosity = 3\n",
    "scv.settings.set_figure_params('scvelo', facecolor='white', dpi=100,dpi_save = 300, frameon=False, format=\"pdf\")\n",
    "cr.settings.verbosity = 2"
   ]
  },
  {
   "cell_type": "code",
   "execution_count": null,
   "id": "3c3c8b41-d09a-43b4-a314-97af367e6df1",
   "metadata": {
    "execution": {
     "iopub.execute_input": "2025-03-07T04:56:15.720438Z",
     "iopub.status.busy": "2025-03-07T04:56:15.718568Z",
     "iopub.status.idle": "2025-03-07T04:56:15.791406Z",
     "shell.execute_reply": "2025-03-07T04:56:15.790622Z",
     "shell.execute_reply.started": "2025-03-07T04:56:15.720412Z"
    }
   },
   "outputs": [],
   "source": [
    "sample_info = pd.read_csv(\"all_sample_info.txt\", sep = \"\\t\")\n",
    "type(sample_info)\n",
    "sample_info"
   ]
  },
  {
   "cell_type": "code",
   "execution_count": null,
   "id": "b04409e1-282a-47b6-9ea6-5bccd0bca7e8",
   "metadata": {
    "execution": {
     "iopub.execute_input": "2025-03-07T04:56:15.795612Z",
     "iopub.status.busy": "2025-03-07T04:56:15.793914Z",
     "iopub.status.idle": "2025-03-07T05:04:39.668214Z",
     "shell.execute_reply": "2025-03-07T05:04:39.667483Z",
     "shell.execute_reply.started": "2025-03-07T04:56:15.795586Z"
    },
    "scrolled": true
   },
   "outputs": [],
   "source": [
    "ladatas = {}\n",
    "from datetime import datetime\n",
    "\n",
    "for i in sample_info['samplename']:\n",
    "    sample_name = i\n",
    "\n",
    "    # -----------------------------start\n",
    "    now_time = datetime.now().strftime(\"%Y-%m-%d %H:%M:%S\")\n",
    "    print(\"[\" + now_time + \"] >>> \" + \"Start Processing of \" + sample_name + \" ......\")\n",
    "    \n",
    "    # get sampleinfo for each sample\n",
    "    sample_type = sample_info.loc[sample_info['samplename'] == sample_name]['sample_type'].values[0]\n",
    "    group = sample_info.loc[sample_info['samplename'] == sample_name]['group'].values[0]\n",
    "    sampling_time = sample_info.loc[sample_info['samplename'] == sample_name]['sampling_time'].values[0]\n",
    "    loompath = sample_info.loc[sample_info['samplename'] == sample_name]['velocyto_loompath'].values[0]\n",
    "\n",
    "\n",
    "    # read matrixfile\n",
    "    sample_adata = sc.read(loompath, cache=True)\n",
    "    sample_adata.var_names_make_unique()\n",
    "    \n",
    "    sample_adata.obs['barcodes'] = [sample_name + \"_\" + bc[0:len(bc)-1] + '-1' for bc in [bc.split(':')[1] for bc in sample_adata.obs.index.to_list()]]\n",
    "    \n",
    "    sample_adata.obs['sample_name'] = sample_name\n",
    "    sample_adata.obs['sampling_time'] = sampling_time\n",
    "    sample_adata.obs['sample_type'] = sample_type\n",
    "    sample_adata.obs['group'] = group\n",
    "\n",
    "    #---------------------------------done\n",
    "    now_time = datetime.now().strftime(\"%Y-%m-%d %H:%M:%S\")\n",
    "    print(\"[\" + now_time + \"] >>> \" + \"Sample `\" + sample_name + \"` Analysis is Done!\\n\\n\")\n",
    "     \n",
    "    ladatas[sample_name] = sample_adata\n",
    "    "
   ]
  },
  {
   "cell_type": "code",
   "execution_count": null,
   "id": "d0358570-a4d4-4454-bec8-6e4f3afb28e3",
   "metadata": {
    "execution": {
     "iopub.execute_input": "2025-03-07T05:04:39.673047Z",
     "iopub.status.busy": "2025-03-07T05:04:39.671268Z",
     "iopub.status.idle": "2025-03-07T05:04:44.067085Z",
     "shell.execute_reply": "2025-03-07T05:04:44.066302Z",
     "shell.execute_reply.started": "2025-03-07T05:04:39.673018Z"
    }
   },
   "outputs": [],
   "source": [
    "#ladata = ad.concat(ladatas, label=\"sample_batch\")\n",
    "ladata_list = list(ladatas.values())\n",
    "ladata = ladata_list[0].concatenate(ladata_list[1:len(ladata_list)])\n"
   ]
  },
  {
   "cell_type": "code",
   "execution_count": null,
   "id": "9b401278-ae2e-4727-b474-c4af4085494c",
   "metadata": {
    "execution": {
     "iopub.execute_input": "2025-03-07T05:04:44.071981Z",
     "iopub.status.busy": "2025-03-07T05:04:44.070157Z",
     "iopub.status.idle": "2025-03-07T05:04:44.087925Z",
     "shell.execute_reply": "2025-03-07T05:04:44.087207Z",
     "shell.execute_reply.started": "2025-03-07T05:04:44.071951Z"
    }
   },
   "outputs": [],
   "source": [
    "ladata.obs.index = ladata.obs['barcodes'].to_list()"
   ]
  },
  {
   "cell_type": "code",
   "execution_count": null,
   "id": "dd62c438-22ad-4550-8d15-e8a5657fe3aa",
   "metadata": {
    "execution": {
     "iopub.execute_input": "2025-03-07T05:04:44.092321Z",
     "iopub.status.busy": "2025-03-07T05:04:44.090513Z",
     "iopub.status.idle": "2025-03-07T05:04:44.161912Z",
     "shell.execute_reply": "2025-03-07T05:04:44.161202Z",
     "shell.execute_reply.started": "2025-03-07T05:04:44.092295Z"
    }
   },
   "outputs": [],
   "source": [
    "ladata.obs.head(3)"
   ]
  },
  {
   "cell_type": "code",
   "execution_count": null,
   "id": "11904856-cf6a-49e6-8abb-4a586b7784c0",
   "metadata": {
    "execution": {
     "iopub.execute_input": "2025-03-07T05:04:44.166137Z",
     "iopub.status.busy": "2025-03-07T05:04:44.164433Z",
     "iopub.status.idle": "2025-03-07T05:04:44.188975Z",
     "shell.execute_reply": "2025-03-07T05:04:44.188379Z",
     "shell.execute_reply.started": "2025-03-07T05:04:44.166112Z"
    }
   },
   "outputs": [],
   "source": [
    "adata.obs.head(3)"
   ]
  },
  {
   "cell_type": "code",
   "execution_count": null,
   "id": "a16cb948-6d4f-4e3a-b5cc-f5cad1061726",
   "metadata": {
    "execution": {
     "iopub.execute_input": "2025-03-07T05:04:44.193162Z",
     "iopub.status.busy": "2025-03-07T05:04:44.191461Z",
     "iopub.status.idle": "2025-03-07T05:04:44.207149Z",
     "shell.execute_reply": "2025-03-07T05:04:44.206524Z",
     "shell.execute_reply.started": "2025-03-07T05:04:44.193137Z"
    }
   },
   "outputs": [],
   "source": [
    "adata.obs.index = adata.obs['barcodes'].to_list()"
   ]
  },
  {
   "cell_type": "code",
   "execution_count": null,
   "id": "3591cb74-5bf8-4c4d-b2d1-11e16e837671",
   "metadata": {
    "execution": {
     "iopub.execute_input": "2025-03-07T05:04:44.211688Z",
     "iopub.status.busy": "2025-03-07T05:04:44.209911Z",
     "iopub.status.idle": "2025-03-07T05:04:50.976147Z",
     "shell.execute_reply": "2025-03-07T05:04:50.975403Z",
     "shell.execute_reply.started": "2025-03-07T05:04:44.211663Z"
    }
   },
   "outputs": [],
   "source": [
    "# merge matrices into the original adata object\n",
    "adata_merge = scv.utils.merge(adata, ladata)"
   ]
  },
  {
   "cell_type": "code",
   "execution_count": null,
   "id": "0ddfc3ed-a7ec-4b37-bf87-e5c4670653df",
   "metadata": {
    "execution": {
     "iopub.execute_input": "2025-03-07T05:04:50.981053Z",
     "iopub.status.busy": "2025-03-07T05:04:50.979253Z",
     "iopub.status.idle": "2025-03-07T05:04:50.987343Z",
     "shell.execute_reply": "2025-03-07T05:04:50.986791Z",
     "shell.execute_reply.started": "2025-03-07T05:04:50.981024Z"
    }
   },
   "outputs": [],
   "source": [
    "adata_merge"
   ]
  },
  {
   "cell_type": "code",
   "execution_count": null,
   "id": "2312b5a4-b6e5-4171-8067-55f5c3da9158",
   "metadata": {
    "execution": {
     "iopub.execute_input": "2025-03-07T05:04:50.991787Z",
     "iopub.status.busy": "2025-03-07T05:04:50.990025Z",
     "iopub.status.idle": "2025-03-07T05:04:54.872727Z",
     "shell.execute_reply": "2025-03-07T05:04:54.871997Z",
     "shell.execute_reply.started": "2025-03-07T05:04:50.991761Z"
    }
   },
   "outputs": [],
   "source": [
    "# plot umap to check\n",
    "from matplotlib.pyplot import rc_context\n",
    "import matplotlib.pyplot as plt\n",
    "\n",
    "with rc_context({\"figure.figsize\": (5, 5)}):\n",
    "    sc.pl.umap(adata_merge, color='celltype', palette='tab20b', title = 'Subtype', size = 10, legend_fontsize=12, frameon=True, show=False)\n",
    "    plt.savefig('./figures/Velocyto_subcelltypes_Umap.pdf', format='pdf', bbox_inches='tight')\n",
    "    plt.show()\n",
    "    "
   ]
  },
  {
   "cell_type": "markdown",
   "id": "51afbcef-85d2-4643-88f3-9552f05f6873",
   "metadata": {},
   "source": [
    "## scVelo"
   ]
  },
  {
   "cell_type": "code",
   "execution_count": null,
   "id": "209fcc64-9b28-415a-8714-bf54f2f1beec",
   "metadata": {
    "execution": {
     "iopub.execute_input": "2025-03-07T05:04:54.889279Z",
     "iopub.status.busy": "2025-03-07T05:04:54.887339Z",
     "iopub.status.idle": "2025-03-07T05:04:54.918317Z",
     "shell.execute_reply": "2025-03-07T05:04:54.917558Z",
     "shell.execute_reply.started": "2025-03-07T05:04:54.889254Z"
    }
   },
   "outputs": [],
   "source": [
    "adata_td = adata_merge[adata_merge.obs['td'] == 'td']"
   ]
  },
  {
   "cell_type": "code",
   "execution_count": null,
   "id": "d7a9fe98-f3f8-47fa-b7ff-577d98fc7805",
   "metadata": {
    "execution": {
     "iopub.execute_input": "2025-03-07T05:04:54.922744Z",
     "iopub.status.busy": "2025-03-07T05:04:54.920896Z",
     "iopub.status.idle": "2025-03-07T05:05:00.389463Z",
     "shell.execute_reply": "2025-03-07T05:05:00.388849Z",
     "shell.execute_reply.started": "2025-03-07T05:04:54.922718Z"
    }
   },
   "outputs": [],
   "source": [
    "# plot umap to check\n",
    "from matplotlib.pyplot import rc_context\n",
    "import matplotlib.pyplot as plt\n",
    "\n",
    "with rc_context({\"figure.figsize\": (5, 5)}):\n",
    "    sc.pl.umap(adata_td, color='celltype', palette='tab20b', title = 'Subtype', size = 10, legend_fontsize=12, frameon=True, show=False)\n",
    "    plt.savefig('./figures/COPD_tdTomato_Velocyto_Basal_Subtype_Umap.pdf', format='pdf', bbox_inches='tight')\n",
    "    plt.show()\n",
    "    "
   ]
  },
  {
   "cell_type": "code",
   "execution_count": null,
   "id": "d89aaa79-a413-4327-ac85-e316501c7ec0",
   "metadata": {
    "execution": {
     "iopub.execute_input": "2025-03-07T05:17:36.749854Z",
     "iopub.status.busy": "2025-03-07T05:17:36.749594Z",
     "iopub.status.idle": "2025-03-07T05:17:36.752967Z",
     "shell.execute_reply": "2025-03-07T05:17:36.752333Z",
     "shell.execute_reply.started": "2025-03-07T05:17:36.749832Z"
    }
   },
   "outputs": [],
   "source": [
    "adata = adata_td"
   ]
  },
  {
   "cell_type": "code",
   "execution_count": null,
   "id": "f8089262-cb1f-48ca-9360-677ad86a2826",
   "metadata": {
    "execution": {
     "iopub.execute_input": "2025-03-07T05:17:39.445768Z",
     "iopub.status.busy": "2025-03-07T05:17:39.445517Z",
     "iopub.status.idle": "2025-03-07T05:17:39.450174Z",
     "shell.execute_reply": "2025-03-07T05:17:39.449582Z",
     "shell.execute_reply.started": "2025-03-07T05:17:39.445745Z"
    }
   },
   "outputs": [],
   "source": [
    "adata"
   ]
  },
  {
   "cell_type": "code",
   "execution_count": null,
   "id": "59a26913-d109-4e1a-ac67-893262148f94",
   "metadata": {
    "execution": {
     "iopub.execute_input": "2025-03-07T05:17:43.338665Z",
     "iopub.status.busy": "2025-03-07T05:17:43.338419Z",
     "iopub.status.idle": "2025-03-07T05:17:46.243776Z",
     "shell.execute_reply": "2025-03-07T05:17:46.243183Z",
     "shell.execute_reply.started": "2025-03-07T05:17:43.338644Z"
    }
   },
   "outputs": [],
   "source": [
    "from matplotlib.pyplot import rc_context\n",
    "import matplotlib.pyplot as plt\n",
    "\n",
    "with rc_context({\"figure.figsize\": (15, 6)}):\n",
    "    scv.pl.proportions(adata, groupby = 'celltype', show=False)\n",
    "    plt.savefig('./figures/velocyto_summary.pdf', format='pdf', bbox_inches='tight')\n",
    "    plt.show()\n",
    "    \n"
   ]
  },
  {
   "cell_type": "markdown",
   "id": "4122cb87-4c0c-458f-a1f9-2c1ae4ba9259",
   "metadata": {},
   "source": [
    "## Preprocess the Data"
   ]
  },
  {
   "cell_type": "code",
   "execution_count": null,
   "id": "1354a023-f03e-4f99-a4f5-76d1944acd4e",
   "metadata": {
    "execution": {
     "iopub.execute_input": "2025-03-07T05:17:52.975808Z",
     "iopub.status.busy": "2025-03-07T05:17:52.975545Z",
     "iopub.status.idle": "2025-03-07T05:18:16.123294Z",
     "shell.execute_reply": "2025-03-07T05:18:16.122571Z",
     "shell.execute_reply.started": "2025-03-07T05:17:52.975785Z"
    }
   },
   "outputs": [],
   "source": [
    "# Prepocess data\n",
    "scv.pp.filter_genes(adata, min_shared_counts=20)\n",
    "scv.pp.normalize_per_cell(adata)\n",
    "scv.pp.filter_genes_dispersion(adata, n_top_genes=2000)\n",
    "scv.pp.log1p(adata)"
   ]
  },
  {
   "cell_type": "code",
   "execution_count": null,
   "id": "ad651bfe-6ebc-44c0-9323-1f45a3fc808a",
   "metadata": {
    "execution": {
     "iopub.execute_input": "2025-03-07T05:18:16.127853Z",
     "iopub.status.busy": "2025-03-07T05:18:16.126135Z",
     "iopub.status.idle": "2025-03-07T05:19:05.417066Z",
     "shell.execute_reply": "2025-03-07T05:19:05.416329Z",
     "shell.execute_reply.started": "2025-03-07T05:18:16.127825Z"
    }
   },
   "outputs": [],
   "source": [
    "scv.pp.filter_and_normalize(adata, min_shared_counts=20, n_top_genes=2000)\n",
    "scv.pp.moments(adata, n_pcs=30, n_neighbors=30)\n"
   ]
  },
  {
   "cell_type": "markdown",
   "id": "71bd0cba-10aa-42d2-bbc2-b6c17f3e62b0",
   "metadata": {},
   "source": [
    "## Estimate RNA velocity"
   ]
  },
  {
   "cell_type": "code",
   "execution_count": null,
   "id": "75f22486-0ff7-49cf-8359-9906a75d806e",
   "metadata": {
    "execution": {
     "iopub.execute_input": "2025-03-07T05:19:05.421554Z",
     "iopub.status.busy": "2025-03-07T05:19:05.419821Z"
    }
   },
   "outputs": [],
   "source": [
    "scv.tl.recover_dynamics(adata)"
   ]
  },
  {
   "cell_type": "code",
   "execution_count": null,
   "id": "34cf7d8b-7acf-4c5d-a17f-f8725f45f918",
   "metadata": {
    "execution": {
     "iopub.execute_input": "2025-03-07T06:26:02.527869Z",
     "iopub.status.busy": "2025-03-07T06:26:02.527603Z",
     "iopub.status.idle": "2025-03-07T06:27:35.439051Z",
     "shell.execute_reply": "2025-03-07T06:27:35.438254Z",
     "shell.execute_reply.started": "2025-03-07T06:26:02.527846Z"
    }
   },
   "outputs": [],
   "source": [
    "scv.tl.velocity(adata, mode='dynamical')\n",
    "scv.tl.velocity_graph(adata)"
   ]
  },
  {
   "cell_type": "code",
   "execution_count": null,
   "id": "e81e8c90-a8b8-4943-a675-6c3d2a88ad81",
   "metadata": {
    "execution": {
     "iopub.execute_input": "2025-03-07T06:32:14.893326Z",
     "iopub.status.busy": "2025-03-07T06:32:14.893052Z",
     "iopub.status.idle": "2025-03-07T06:32:29.891115Z",
     "shell.execute_reply": "2025-03-07T06:32:29.890492Z",
     "shell.execute_reply.started": "2025-03-07T06:32:14.893298Z"
    }
   },
   "outputs": [],
   "source": [
    "# plot umap to check\n",
    "from matplotlib.pyplot import rc_context\n",
    "import matplotlib.pyplot as plt\n",
    "\n",
    "with rc_context({\"figure.figsize\": (5, 5)}):\n",
    "    scv.pl.velocity_embedding_stream(adata, basis='umap', color=\"celltype\", legend_loc=\"right\", show=False)\n",
    "    plt.savefig(\"./figures/cVelo_streamplot.svg\",bbox_inches='tight', dpi=300)"
   ]
  },
  {
   "cell_type": "markdown",
   "id": "5434adde-6c0c-4732-94d0-ba6e145e092d",
   "metadata": {},
   "source": [
    "## Kinetic rate paramters"
   ]
  },
  {
   "cell_type": "code",
   "execution_count": null,
   "id": "c9f14d67-39fd-48fe-a91c-f959389d6952",
   "metadata": {
    "execution": {
     "iopub.execute_input": "2025-03-07T06:33:36.121909Z",
     "iopub.status.busy": "2025-03-07T06:33:36.121589Z",
     "iopub.status.idle": "2025-03-07T06:33:36.921976Z",
     "shell.execute_reply": "2025-03-07T06:33:36.921425Z",
     "shell.execute_reply.started": "2025-03-07T06:33:36.121884Z"
    }
   },
   "outputs": [],
   "source": [
    "df = adata.var\n",
    "df = df[(df['fit_likelihood'] > .1) & df['velocity_genes'] == True]\n",
    "\n",
    "kwargs = dict(xscale='log', fontsize=16)\n",
    "with scv.GridSpec(ncols=3) as pl:\n",
    "    pl.hist(df['fit_alpha'], xlabel='transcription rate', **kwargs)\n",
    "    pl.hist(df['fit_beta'] * df['fit_scaling'], xlabel='splicing rate', xticks=[.1, .4, 1], **kwargs)\n",
    "    pl.hist(df['fit_gamma'], xlabel='degradation rate', xticks=[.1, .4, 1], **kwargs)\n",
    "\n",
    "scv.get_df(adata, 'fit*', dropna=True).head()\n"
   ]
  },
  {
   "cell_type": "markdown",
   "id": "c0504b98-d268-4ed8-a6a0-df0b97eab19c",
   "metadata": {
    "execution": {
     "iopub.execute_input": "2025-02-27T08:54:45.265317Z",
     "iopub.status.busy": "2025-02-27T08:54:45.265006Z",
     "iopub.status.idle": "2025-02-27T08:54:45.268526Z",
     "shell.execute_reply": "2025-02-27T08:54:45.267856Z",
     "shell.execute_reply.started": "2025-02-27T08:54:45.265292Z"
    }
   },
   "source": [
    "## Latent time"
   ]
  },
  {
   "cell_type": "code",
   "execution_count": null,
   "id": "58fa2847-43db-4845-a169-b071792a8d55",
   "metadata": {
    "execution": {
     "iopub.execute_input": "2025-03-07T06:33:46.855694Z",
     "iopub.status.busy": "2025-03-07T06:33:46.855429Z",
     "iopub.status.idle": "2025-03-07T06:34:02.622228Z",
     "shell.execute_reply": "2025-03-07T06:34:02.621233Z",
     "shell.execute_reply.started": "2025-03-07T06:33:46.855671Z"
    }
   },
   "outputs": [],
   "source": [
    "scv.tl.latent_time(adata)"
   ]
  },
  {
   "cell_type": "code",
   "execution_count": null,
   "id": "72c1c8d4-2305-47d5-8f25-afc1f09c32f8",
   "metadata": {
    "execution": {
     "iopub.execute_input": "2025-03-07T06:34:14.578101Z",
     "iopub.status.busy": "2025-03-07T06:34:14.577824Z",
     "iopub.status.idle": "2025-03-07T06:34:16.390488Z",
     "shell.execute_reply": "2025-03-07T06:34:16.389871Z",
     "shell.execute_reply.started": "2025-03-07T06:34:14.578078Z"
    }
   },
   "outputs": [],
   "source": [
    "with rc_context({\"figure.figsize\": (6, 6)}):\n",
    "    scv.pl.scatter(adata, color='latent_time', color_map='coolwarm', size = 5, show=False)\n",
    "    plt.subplots_adjust(left=0.15, right=0.85) \n",
    "    plt.savefig(\"./figures/COPD_scVelo_LatentTime.pdf\", dpi=300)\n",
    "    plt.show()\n",
    "    plt.close()"
   ]
  },
  {
   "cell_type": "code",
   "execution_count": null,
   "id": "56b375e4-b971-4705-b877-ba2fccc63514",
   "metadata": {
    "execution": {
     "iopub.execute_input": "2025-03-07T06:42:26.547910Z",
     "iopub.status.busy": "2025-03-07T06:42:26.547600Z",
     "iopub.status.idle": "2025-03-07T06:42:27.833782Z",
     "shell.execute_reply": "2025-03-07T06:42:27.832944Z",
     "shell.execute_reply.started": "2025-03-07T06:42:26.547886Z"
    }
   },
   "outputs": [],
   "source": [
    "sc.tl.paga(adata, groups=\"celltype\")"
   ]
  },
  {
   "cell_type": "code",
   "execution_count": null,
   "id": "4ec9b6e0-d826-420d-aeff-a661614583ac",
   "metadata": {
    "execution": {
     "iopub.execute_input": "2025-03-07T06:53:46.927547Z",
     "iopub.status.busy": "2025-03-07T06:53:46.927240Z",
     "iopub.status.idle": "2025-03-07T06:55:57.379061Z",
     "shell.execute_reply": "2025-03-07T06:55:57.378127Z",
     "shell.execute_reply.started": "2025-03-07T06:53:46.927518Z"
    }
   },
   "outputs": [],
   "source": [
    "adata.write('scVelo_res.h5ad', compression='gzip')"
   ]
  }
 ],
 "metadata": {
  "kernelspec": {
   "display_name": "pysc",
   "language": "python",
   "name": "cellrank"
  },
  "language_info": {
   "codemirror_mode": {
    "name": "ipython",
    "version": 3
   },
   "file_extension": ".py",
   "mimetype": "text/x-python",
   "name": "python",
   "nbconvert_exporter": "python",
   "pygments_lexer": "ipython3",
   "version": "3.12.8"
  }
 },
 "nbformat": 4,
 "nbformat_minor": 5
}
